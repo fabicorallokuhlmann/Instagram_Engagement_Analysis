{
 "cells": [
  {
   "cell_type": "code",
   "execution_count": null,
   "id": "c170eec6",
   "metadata": {},
   "outputs": [],
   "source": [
    "#importando a base de dados\n",
    "import pandas as pd\n",
    "\n",
    "#leitura do arquivo\n",
    "tabela = pd.read_excel(\"08. Analisando o engajamento no Instagram.xlsx\")"
   ]
  },
  {
   "cell_type": "code",
   "execution_count": null,
   "id": "3b7f0403",
   "metadata": {
    "scrolled": true
   },
   "outputs": [],
   "source": [
    "#visualizando a tabela\n",
    "display(tabela)"
   ]
  },
  {
   "cell_type": "code",
   "execution_count": null,
   "id": "65c49872",
   "metadata": {},
   "outputs": [],
   "source": [
    "#retirando coluna desnecessária para a análise\n",
    "\n",
    "tabela = tabela.drop(\"Visualizações\", axis=1)"
   ]
  },
  {
   "cell_type": "code",
   "execution_count": null,
   "id": "cc787cd4",
   "metadata": {},
   "outputs": [],
   "source": [
    "#verificando as informações disponíveis\n",
    "display(tabela.info())"
   ]
  },
  {
   "cell_type": "code",
   "execution_count": null,
   "id": "d4404bcd",
   "metadata": {},
   "outputs": [],
   "source": [
    "#contando os valores que aparecem na coluna Carrossel (apenas 8 valores, o que pode impactar na análise)\n",
    "tabela.Carrossel.value_counts()\n",
    "\n",
    "#os valores nulos deveriam ser N, indicando que se trata de uma postagem sem Carrossel de imagens"
   ]
  },
  {
   "cell_type": "code",
   "execution_count": null,
   "id": "a51cd688",
   "metadata": {},
   "outputs": [],
   "source": [
    "# tratando a base ao atribuir o valor N para a coluna Carrossel \n",
    "tabela.loc[tabela.Carrossel.isnull(),\"Carrossel\"] = \"N\""
   ]
  },
  {
   "cell_type": "code",
   "execution_count": null,
   "id": "be6c6c7c",
   "metadata": {},
   "outputs": [],
   "source": [
    "#verificando se a atribuição funcionou\n",
    "tabela.loc[tabela.Carrossel.isnull()]\n",
    "tabela.Carrossel.value_counts()"
   ]
  },
  {
   "cell_type": "code",
   "execution_count": null,
   "id": "4adbabf8",
   "metadata": {},
   "outputs": [],
   "source": [
    "#verificando novamente as informações disponíveis\n",
    "display(tabela.info())"
   ]
  },
  {
   "cell_type": "code",
   "execution_count": null,
   "id": "5b4b9ed9",
   "metadata": {},
   "outputs": [],
   "source": [
    "#coluna Tags também precisa ter NaN atribuídos a N\n",
    "tabela.loc[tabela.Tags.isnull(),\"Tags\"] = \"Sem tags\""
   ]
  },
  {
   "cell_type": "code",
   "execution_count": null,
   "id": "8f0c7a90",
   "metadata": {},
   "outputs": [],
   "source": [
    "#verificando se a atribuição funcionou\n",
    "tabela.Tags.value_counts()"
   ]
  },
  {
   "cell_type": "code",
   "execution_count": null,
   "id": "1d7df126",
   "metadata": {},
   "outputs": [],
   "source": [
    "#verificando novamente as informações disponíveis\n",
    "tabela.info()"
   ]
  },
  {
   "cell_type": "code",
   "execution_count": null,
   "id": "1e5be6b9",
   "metadata": {},
   "outputs": [],
   "source": [
    "#descrição estatística da base\n",
    "tabela.describe()"
   ]
  },
  {
   "cell_type": "code",
   "execution_count": null,
   "id": "2edbd662",
   "metadata": {},
   "outputs": [],
   "source": [
    "#visualizando o comportamento das Curtidas em um gráfico de dispersão \n",
    "tabela.plot(kind=\"scatter\",x=\"Data\",y=\"Curtidas\",figsize=(14,8));\n",
    "\n",
    "#observa-se que não há um padrão notável"
   ]
  },
  {
   "cell_type": "code",
   "execution_count": null,
   "id": "f20492b3",
   "metadata": {},
   "outputs": [],
   "source": [
    "#visualizando o comportamento das Comentários em um gráfico de dispersão \n",
    "tabela.plot(kind=\"scatter\",x=\"Data\",y=\"Comentários\",color=\"red\",label=\"Comentários\",figsize=(14,8));\n",
    "\n",
    "#observa-se que também não há um padrão notável. As demais colunas precisam ser utilizadas para verificar a existência de um padrão"
   ]
  },
  {
   "cell_type": "code",
   "execution_count": null,
   "id": "4e7dce1d",
   "metadata": {},
   "outputs": [],
   "source": [
    "#ordenando os valores para observar os 5 primeiros registros com mais Curtidas\n",
    "tabela.sort_values(by=\"Curtidas\",ascending=False).head()\n",
    "\n",
    "\n",
    "#pode-se observar que no top 5 de todas a postagens em Curtidas, havia pessoas (S) e eram fotos de campanha (S)"
   ]
  },
  {
   "cell_type": "code",
   "execution_count": null,
   "id": "3bcbf5bc",
   "metadata": {},
   "outputs": [],
   "source": [
    "#ordenando os valores para observar os 5 primeiros registros com menos Curtidas\n",
    "tabela.sort_values(by=\"Curtidas\",ascending=False).tail()\n",
    "\n",
    "#pode-se observar que no top 5 de pior desempenho em Curtidas, não havia pessoas (N) e nem eram fotos de campanha (N)\n",
    "#pode ser um indicativo de que publicações com pessoas e que sejam de campanhas tem relação com melhor desempenho no que se refere ap número de Curtidas"
   ]
  },
  {
   "cell_type": "code",
   "execution_count": null,
   "id": "e7e3f108",
   "metadata": {},
   "outputs": [],
   "source": [
    "#para melhorar a visualização, vamos criar um padrão no formato dos valores\n",
    "pd.options.display.float_format = '{:,.2f}'.format"
   ]
  },
  {
   "cell_type": "code",
   "execution_count": null,
   "id": "a205e5c8",
   "metadata": {},
   "outputs": [],
   "source": [
    "#agrupando as informações por tipo\n",
    "tabela.groupby(\"Pessoas\")[[\"Comentários\", \"Curtidas\"]].mean()\n"
   ]
  },
  {
   "cell_type": "code",
   "execution_count": null,
   "id": "b9cacdd3",
   "metadata": {},
   "outputs": [],
   "source": [
    "#agrupando por Tipo\n",
    "tabela.groupby(\"Tipo\")[[\"Comentários\",\"Curtidas\"]].mean()"
   ]
  },
  {
   "cell_type": "code",
   "execution_count": null,
   "id": "435cd9e3",
   "metadata": {},
   "outputs": [],
   "source": [
    "#agrupando por Tipo e Pessoas\n",
    "tabela.groupby([\"Tipo\",\"Pessoas\"])[[\"Curtidas\",'Comentários']].mean()"
   ]
  },
  {
   "cell_type": "code",
   "execution_count": null,
   "id": "69cf7a8c",
   "metadata": {},
   "outputs": [],
   "source": [
    "#incluindo a coluna de campanhas\n",
    "tabela.groupby([\"Tipo\",\"Pessoas\",\"Campanhas\"])[[\"Curtidas\",'Comentários']].mean()"
   ]
  },
  {
   "cell_type": "code",
   "execution_count": null,
   "id": "91e1337f",
   "metadata": {},
   "outputs": [],
   "source": [
    "#somente para pessoas\n",
    "tabela.groupby(\"Pessoas\")[[\"Curtidas\",'Comentários']].mean()"
   ]
  },
  {
   "cell_type": "code",
   "execution_count": null,
   "id": "cb377bde",
   "metadata": {},
   "outputs": [],
   "source": [
    "#somente para campanhas\n",
    "tabela.groupby(\"Campanhas\")[[\"Curtidas\",'Comentários']].mean()"
   ]
  },
  {
   "cell_type": "code",
   "execution_count": null,
   "id": "a4791067",
   "metadata": {},
   "outputs": [],
   "source": [
    "#filtrando a coluna Carrossel, pois apenas o tipo \"Foto\" se encaixa nessa categoria\n",
    "tabela[tabela.Tipo == \"Foto\"].groupby([\"Carrossel\"])[[\"Curtidas\",\"Comentários\"]].mean()\n",
    "\n",
    "#Carrossel não parece contribuir com o engajamento"
   ]
  },
  {
   "cell_type": "code",
   "execution_count": null,
   "id": "942ec136",
   "metadata": {},
   "outputs": [],
   "source": [
    "#agregando por pessoas e campanhas\n",
    "tabela.groupby([\"Pessoas\",\"Campanhas\"])[[\"Curtidas\",'Comentários']].mean()\n",
    "\n",
    "#publicações que unem campanhas com pessoas aumentam consideravelmente o engajamento"
   ]
  },
  {
   "cell_type": "code",
   "execution_count": null,
   "id": "5fb5b9b5",
   "metadata": {},
   "outputs": [],
   "source": [
    "#filtrandp a base apenas onde o tipo é Vídeo\n",
    "tabela[tabela.Tipo == 'Vídeo']\n",
    "\n",
    "#poucos vídeos com pessoas e campanhas fizeram com que a média de desempenho caísse. Porém os vídeos que englobaram \"Campanhas\" e \"Pessoas\" tiveram bom desempenho, próximo ao desempenho das \"Fotos\""
   ]
  },
  {
   "cell_type": "code",
   "execution_count": null,
   "id": "02710eff",
   "metadata": {},
   "outputs": [],
   "source": [
    "#explorando as tags\n",
    "tabela.groupby(\"Tags\")[\"Curtidas\"].mean()"
   ]
  },
  {
   "cell_type": "code",
   "execution_count": null,
   "id": "65befac9",
   "metadata": {},
   "outputs": [],
   "source": [
    "#precisa-se analisar as tags individualmente. Portanto, separa-se as tags duplas com a função split\n",
    "tabela.Tags = tabela.Tags.str.split(\"/\")\n",
    "tabela.head()\n"
   ]
  },
  {
   "cell_type": "code",
   "execution_count": null,
   "id": "d99b2e46",
   "metadata": {},
   "outputs": [],
   "source": [
    "#separando a coluna Tag em 1 linha para cada elemento da lista (as demais colunas não indicadas apenas são repetidas)\n",
    "tabela = tabela.explode('Tags')\n",
    "tabela.head()"
   ]
  },
  {
   "cell_type": "code",
   "execution_count": null,
   "id": "5334ae63",
   "metadata": {},
   "outputs": [],
   "source": [
    "#agora fazendo a análise de média para as Tags\n",
    "tabela.groupby(\"Tags\")[\"Curtidas\"].mean()"
   ]
  },
  {
   "cell_type": "code",
   "execution_count": null,
   "id": "d3b0467d",
   "metadata": {},
   "outputs": [],
   "source": [
    "#mostrando novamente a tabela de curtidas por tag\n",
    "tabela.groupby(\"Tags\")[[\"Curtidas\",\"Comentários\"]].mean().sort_values(\"Curtidas\",ascending=False)"
   ]
  },
  {
   "cell_type": "code",
   "execution_count": null,
   "id": "46366a4c",
   "metadata": {},
   "outputs": [],
   "source": [
    "#verificando novamente as informações disponíveis\n",
    "tabela.info()"
   ]
  },
  {
   "cell_type": "code",
   "execution_count": null,
   "id": "fb8790e0",
   "metadata": {},
   "outputs": [],
   "source": [
    "#ordenando por curtidas\n",
    "tabela.groupby([\"Pessoas\",\"Tags\"])[[\"Curtidas\",\"Comentários\"]].mean().sort_values(\"Curtidas\",ascending=False)\n",
    "\n",
    "#publicações que tenham pessoas realmente são fundamentais para um bom engajamento (dobro de desempenho nas tags \"Produtos\" e \"Novos Produtos\")"
   ]
  },
  {
   "cell_type": "code",
   "execution_count": null,
   "id": "b405211b",
   "metadata": {},
   "outputs": [],
   "source": [
    "#fazendo para Campanhas e Tag\n",
    "tabela.groupby([\"Campanhas\",\"Tags\"])[[\"Curtidas\",\"Comentários\"]].mean().sort_values(\"Curtidas\",ascending=False)\n",
    "\n",
    "# postagens feitas associando promoções em época de campanha tem mais do que o dobro de desempenho \n",
    "# não há uma diferença perceptível entre a associação de campanhas eo lançamento de novos produtos"
   ]
  },
  {
   "cell_type": "code",
   "execution_count": null,
   "id": "f308ce15",
   "metadata": {},
   "outputs": [],
   "source": [
    "## Conclusões\n",
    "# postagens com pessoas engajam muito mais do que aquelas que não possuem ninguém (10 mil curtidas)\n",
    "# postagens em épocas de campanha também possuem um ótimo engajamento (5.3 mil curtidas)\n",
    "# postagens que agregam pessoas e campanhas tem em média 19.4 mil curtidas (excelente)\n",
    "# carrossel não foi um diferencial para melhorar o engajamento da marca\n",
    "# a média de curtidas sem carrossel é maior do que com. Portanto, sugere-se focar em outros tipos de publicação que gerem melhor engajamento\n",
    "# sugere-se postar apenas vídeos que agreguem pessoas e campanhas que tiveram \n",
    "# desempenho próximo ao das fotos, uma vez que os não apresentaram ambos não tiveram um bom desempenho \n",
    "# IGTV mesmo com pessoas não agradaram  \n",
    "# em todas as tags, quando há pessoas envolvidas o desempenho foi muito melhor\n",
    "# campanhas ajudam na divulgação da marca\n",
    "# promoções tiveram um desempenho muito superior do que qualquer outra tag (é uma tag que pode resultar em custo para a empresa = avaliar)\n",
    "# conteúdo que estão em trends também ajudam na divulgação\n",
    "# para novos produtos, a inclusão de pessoas é essencial (o dobro de desempenho)\n",
    "# não há dados para cravar que a tag \"Loja\" não é boa, pois não há publicações com pessoas ou campanha. Sugere-se testar ambas"
   ]
  }
 ],
 "metadata": {
  "kernelspec": {
   "display_name": "Python 3 (ipykernel)",
   "language": "python",
   "name": "python3"
  },
  "language_info": {
   "codemirror_mode": {
    "name": "ipython",
    "version": 3
   },
   "file_extension": ".py",
   "mimetype": "text/x-python",
   "name": "python",
   "nbconvert_exporter": "python",
   "pygments_lexer": "ipython3",
   "version": "3.11.4"
  }
 },
 "nbformat": 4,
 "nbformat_minor": 5
}
